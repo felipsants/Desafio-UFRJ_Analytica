{
 "cells": [
  {
   "cell_type": "code",
   "id": "initial_id",
   "metadata": {
    "collapsed": true,
    "ExecuteTime": {
     "end_time": "2024-09-24T20:59:49.923562Z",
     "start_time": "2024-09-24T20:59:47.587779Z"
    }
   },
   "source": [
    "import matplotlib.pyplot as plt\n",
    "import pandas as pd\n",
    "import numpy as np\n",
    "import math\n",
    "from numpy import random\n",
    "import matplotlib.ticker as mticker"
   ],
   "execution_count": 1,
   "outputs": []
  },
  {
   "metadata": {},
   "cell_type": "markdown",
   "source": "A partir do seguinte array: [5.5, 3.8, 9, 7.5, 10.0, 9.9, 8.5]",
   "id": "809b4197c42ed89f"
  },
  {
   "metadata": {
    "ExecuteTime": {
     "end_time": "2024-09-24T20:59:49.931814Z",
     "start_time": "2024-09-24T20:59:49.925584Z"
    }
   },
   "cell_type": "code",
   "source": "array_x = [5.5, 3.8, 9, 7.5, 10.0, 9.9, 8.5]\n",
   "id": "13a09358c8759fa",
   "execution_count": 2,
   "outputs": []
  },
  {
   "metadata": {},
   "cell_type": "markdown",
   "source": "(a) Calcule a média dos valores usando iteração",
   "id": "176689ab9aa96c2d"
  },
  {
   "metadata": {
    "ExecuteTime": {
     "end_time": "2024-09-24T20:59:49.939641Z",
     "start_time": "2024-09-24T20:59:49.933884Z"
    }
   },
   "cell_type": "code",
   "source": [
    "def media(lista):\n",
    "    soma = 0\n",
    "    \n",
    "    for i in range(len(lista)):\n",
    "        soma += lista[i]\n",
    "    valor_medio = soma / (len(lista))\n",
    "    return valor_medio"
   ],
   "id": "de14aab7fa1b0895",
   "execution_count": 3,
   "outputs": []
  },
  {
   "metadata": {
    "ExecuteTime": {
     "end_time": "2024-09-24T20:59:49.948926Z",
     "start_time": "2024-09-24T20:59:49.941647Z"
    }
   },
   "cell_type": "code",
   "source": "print(round(media(array_x), 2))",
   "id": "4084f9d927c4a5d0",
   "execution_count": 4,
   "outputs": []
  },
  {
   "metadata": {},
   "cell_type": "markdown",
   "source": "(b) Calcule o desvio padrão dos valores usando iteração.\n",
   "id": "b9c0adfb34bb4973"
  },
  {
   "metadata": {
    "ExecuteTime": {
     "end_time": "2024-09-24T20:59:49.957237Z",
     "start_time": "2024-09-24T20:59:49.950515Z"
    }
   },
   "cell_type": "code",
   "source": [
    "def desvio_padrao(lista):\n",
    "    variancia = 0\n",
    "    media_lista = media(lista)\n",
    "    \n",
    "    for i in range(len(lista)):\n",
    "        variancia += (lista[i] - media_lista) ** 2\n",
    "    \n",
    "    variancia /= len(lista)\n",
    "    \n",
    "    desvio = math.sqrt(variancia)\n",
    "    \n",
    "    return desvio"
   ],
   "id": "19da8663ade7d2f8",
   "execution_count": 5,
   "outputs": []
  },
  {
   "metadata": {
    "ExecuteTime": {
     "end_time": "2024-09-24T20:59:49.965007Z",
     "start_time": "2024-09-24T20:59:49.959250Z"
    }
   },
   "cell_type": "code",
   "source": "print(round(desvio_padrao(array_x),2))",
   "id": "4409cf2940f239a8",
   "execution_count": 6,
   "outputs": []
  },
  {
   "metadata": {},
   "cell_type": "markdown",
   "source": "## Funções Facilitadoras",
   "id": "966860ea71ee166b"
  },
  {
   "metadata": {},
   "cell_type": "markdown",
   "source": [
    "(a) Ordene os elementos do array da questão anterior usando o método .sort()\n",
    "próprio do numpy"
   ],
   "id": "f46a595c585e97a9"
  },
  {
   "metadata": {},
   "cell_type": "markdown",
   "source": "Ordenação decrescente",
   "id": "c22092d7c9a7d5d3"
  },
  {
   "metadata": {
    "ExecuteTime": {
     "end_time": "2024-09-24T20:59:49.973047Z",
     "start_time": "2024-09-24T20:59:49.967028Z"
    }
   },
   "cell_type": "code",
   "source": [
    "array_x.sort(reverse=True)\n",
    "print(array_x)"
   ],
   "id": "7b296eb33e96cfdb",
   "execution_count": 7,
   "outputs": []
  },
  {
   "metadata": {},
   "cell_type": "markdown",
   "source": "Ordenação crescente",
   "id": "6062bea670bfa3f2"
  },
  {
   "metadata": {
    "ExecuteTime": {
     "end_time": "2024-09-24T20:59:49.980353Z",
     "start_time": "2024-09-24T20:59:49.975165Z"
    }
   },
   "cell_type": "code",
   "source": [
    "array_x.sort()\n",
    "print(array_x)"
   ],
   "id": "c08d2f527a57b8e4",
   "execution_count": 8,
   "outputs": []
  },
  {
   "metadata": {},
   "cell_type": "markdown",
   "source": "(b) Para saber as dimensões do array podemos use a propriedade .shape\n",
   "id": "bfc1c29519284591"
  },
  {
   "metadata": {
    "ExecuteTime": {
     "end_time": "2024-09-24T20:59:49.987727Z",
     "start_time": "2024-09-24T20:59:49.982892Z"
    }
   },
   "cell_type": "code",
   "source": [
    "array_formata = np.array(array_x)\n",
    "print(array_formata.shape)"
   ],
   "id": "9201ca1c61463a74",
   "execution_count": 9,
   "outputs": []
  },
  {
   "metadata": {},
   "cell_type": "markdown",
   "source": "(c) Extraia a média de um array numpy utilizando o método .mean():",
   "id": "f217d63cff14b8c6"
  },
  {
   "metadata": {
    "ExecuteTime": {
     "end_time": "2024-09-24T20:59:49.998385Z",
     "start_time": "2024-09-24T20:59:49.993014Z"
    }
   },
   "cell_type": "code",
   "source": "print(round((array_formata.mean()),2))",
   "id": "413339d570e20ede",
   "execution_count": 10,
   "outputs": []
  },
  {
   "metadata": {},
   "cell_type": "markdown",
   "source": [
    "(d) O mesmo pode ser feito para o desvio padrão, com .std(), máxima e mínima\n",
    "com .max() e .min(), além de muitos outros métodos.\n"
   ],
   "id": "42db3ce4fffb08a7"
  },
  {
   "metadata": {
    "ExecuteTime": {
     "end_time": "2024-09-24T20:59:50.005254Z",
     "start_time": "2024-09-24T20:59:50.000923Z"
    }
   },
   "cell_type": "code",
   "source": [
    "# Desvio padrão\n",
    "dp_padrao = array_formata.std()\n",
    "\n",
    "# Valor Máximo\n",
    "valor_max = array_formata.max()\n",
    "\n",
    "# Valor Mínimo\n",
    "valor_min = array_formata.min()"
   ],
   "id": "3a9020fecdefd8a1",
   "execution_count": 11,
   "outputs": []
  },
  {
   "metadata": {
    "ExecuteTime": {
     "end_time": "2024-09-24T20:59:50.013163Z",
     "start_time": "2024-09-24T20:59:50.007268Z"
    }
   },
   "cell_type": "code",
   "source": [
    "print(f'Desvio Padrão: {round(dp_padrao,2)}')\n",
    "print(f'Valor máximo : {valor_max}')\n",
    "print(f'Valor mínimo : {valor_min}')"
   ],
   "id": "5ef74a839f3a7979",
   "execution_count": 12,
   "outputs": []
  },
  {
   "metadata": {},
   "cell_type": "markdown",
   "source": [
    "(e) Gere um array de 100 números aleatórios entre 0 e 10 (inclusive) e imprima\n",
    "na tela a média, desvio padrão, o maior valor e o menor valor."
   ],
   "id": "e2b202db3eac6e47"
  },
  {
   "metadata": {
    "ExecuteTime": {
     "end_time": "2024-09-24T21:09:48.962377Z",
     "start_time": "2024-09-24T21:09:48.957382Z"
    }
   },
   "cell_type": "code",
   "source": "array_aletorio = random.randint(10, size=100)",
   "id": "142a6daa4d1fafb2",
   "execution_count": 68,
   "outputs": []
  },
  {
   "metadata": {
    "ExecuteTime": {
     "end_time": "2024-09-24T21:09:49.760201Z",
     "start_time": "2024-09-24T21:09:49.754379Z"
    }
   },
   "cell_type": "code",
   "source": "print(array_aletorio)",
   "id": "2d89e3978a3adee4",
   "execution_count": 69,
   "outputs": []
  },
  {
   "metadata": {},
   "cell_type": "markdown",
   "source": "Conferindo os valores pela função que eu criei.",
   "id": "34eeb79f53c884a6"
  },
  {
   "metadata": {
    "ExecuteTime": {
     "end_time": "2024-09-24T21:01:51.458094Z",
     "start_time": "2024-09-24T21:01:51.452291Z"
    }
   },
   "cell_type": "code",
   "source": [
    "print(f'Média: {round(media(array_aletorio),2)}')\n",
    "print(f'Desvio padrão: {round(desvio_padrao(array_aletorio),2)}')"
   ],
   "id": "595c21bb392de6a2",
   "execution_count": 46,
   "outputs": []
  },
  {
   "metadata": {
    "ExecuteTime": {
     "end_time": "2024-09-24T21:01:52.152444Z",
     "start_time": "2024-09-24T21:01:52.145426Z"
    }
   },
   "cell_type": "code",
   "source": [
    "print(f'Média: {round(array_aletorio.mean(),2)}')\n",
    "print(f'Desvio padrão: {round(array_aletorio.std(),2)}')"
   ],
   "id": "2f84ffade8d7e0af",
   "execution_count": 47,
   "outputs": []
  },
  {
   "metadata": {},
   "cell_type": "markdown",
   "source": "Valores conferem.",
   "id": "37f561d265d744ed"
  },
  {
   "metadata": {
    "ExecuteTime": {
     "end_time": "2024-09-24T21:01:58.307151Z",
     "start_time": "2024-09-24T21:01:58.300800Z"
    }
   },
   "cell_type": "code",
   "source": [
    "print(f'Array: {array_aletorio}\\n')\n",
    "print(f'Média: {round(array_aletorio.mean(),2)}')\n",
    "print(f'Desvio padrão: {round(array_aletorio.std(),2)}')\n",
    "print(f'Valor máximo: {array_aletorio.max()}')\n",
    "print(f'Valor mínimo: {array_aletorio.min()}')"
   ],
   "id": "b38672dcc9e8bb0f",
   "execution_count": 48,
   "outputs": []
  },
  {
   "metadata": {},
   "cell_type": "markdown",
   "source": "## Parte prática do Pandas",
   "id": "222a8bd90e8a538e"
  },
  {
   "metadata": {},
   "cell_type": "markdown",
   "source": "1 - Comece lendo o arquivo csv para um DataFrame",
   "id": "ed542ee368ecc2df"
  },
  {
   "metadata": {
    "ExecuteTime": {
     "end_time": "2024-09-24T20:59:50.082606Z",
     "start_time": "2024-09-24T20:59:50.058246Z"
    }
   },
   "cell_type": "code",
   "source": "df = pd.read_csv('dataset.csv')",
   "id": "301d7ac743c5b733",
   "execution_count": 18,
   "outputs": []
  },
  {
   "metadata": {},
   "cell_type": "markdown",
   "source": [
    "2 - Visualize os dados em forma de tabela para compreender a estrutura e suas\n",
    "colunas."
   ],
   "id": "cfb2e3622bce3e96"
  },
  {
   "metadata": {
    "ExecuteTime": {
     "end_time": "2024-09-24T20:59:50.105148Z",
     "start_time": "2024-09-24T20:59:50.084616Z"
    }
   },
   "cell_type": "code",
   "source": "df.head()",
   "id": "2f6c2918a9c4a62b",
   "execution_count": 19,
   "outputs": []
  },
  {
   "metadata": {},
   "cell_type": "markdown",
   "source": "3 - Calcule o IDH médio do brasil no ano de 1991:",
   "id": "a977cf37c9256dac"
  },
  {
   "metadata": {},
   "cell_type": "markdown",
   "source": [
    "(a) Comece fazendo uma filtragem nas linhas para selecionar apenas os dados\n",
    "referentes ao ano de 1991.\n"
   ],
   "id": "260e9cd47c530051"
  },
  {
   "metadata": {
    "ExecuteTime": {
     "end_time": "2024-09-24T20:59:50.113964Z",
     "start_time": "2024-09-24T20:59:50.107161Z"
    }
   },
   "cell_type": "code",
   "source": "df_filtro_1991 = df[df['ano'] == 1991]",
   "id": "94c3edada16c0721",
   "execution_count": 20,
   "outputs": []
  },
  {
   "metadata": {},
   "cell_type": "markdown",
   "source": "(b) Obtenha os valores de IDH.",
   "id": "ed193798438b04ad"
  },
  {
   "metadata": {
    "ExecuteTime": {
     "end_time": "2024-09-24T20:59:50.121811Z",
     "start_time": "2024-09-24T20:59:50.117221Z"
    }
   },
   "cell_type": "code",
   "source": "df_idh_1991 = df_filtro_1991['idhm']",
   "id": "c97af0e99e626f5b",
   "execution_count": 21,
   "outputs": []
  },
  {
   "metadata": {},
   "cell_type": "markdown",
   "source": "(c) Retorne a média.",
   "id": "561b5a9c3b0b041b"
  },
  {
   "metadata": {
    "ExecuteTime": {
     "end_time": "2024-09-24T20:59:50.128245Z",
     "start_time": "2024-09-24T20:59:50.123823Z"
    }
   },
   "cell_type": "code",
   "source": "media_idh_1991 = df_idh_1991.mean()",
   "id": "73df86d2eef87e3f",
   "execution_count": 22,
   "outputs": []
  },
  {
   "metadata": {
    "ExecuteTime": {
     "end_time": "2024-09-24T20:59:50.136302Z",
     "start_time": "2024-09-24T20:59:50.130257Z"
    }
   },
   "cell_type": "code",
   "source": "print(f'Media do IDH para o ano de 1991: {round(media_idh_1991,3)}')",
   "id": "9376a7c1a7fb0f30",
   "execution_count": 23,
   "outputs": []
  },
  {
   "metadata": {},
   "cell_type": "markdown",
   "source": [
    "4 - A partir da lista dos IDHs da questão anterior retorne os estados que estão\n",
    "acima da média, também no ano de 1991."
   ],
   "id": "5f17295183faaf5d"
  },
  {
   "metadata": {},
   "cell_type": "markdown",
   "source": [
    "(a) A partir do valor de média filtre o dataframe dos dados de 1991 para apenas\n",
    "os que possuem IDH maior que a média."
   ],
   "id": "7d52ae76a131373"
  },
  {
   "metadata": {
    "ExecuteTime": {
     "end_time": "2024-09-24T20:59:50.144361Z",
     "start_time": "2024-09-24T20:59:50.138321Z"
    }
   },
   "cell_type": "code",
   "source": "df_acima_media = df[(df['idhm'] > media_idh_1991) & (df['ano'] == 1991)]",
   "id": "4c3ca05a5deacfd6",
   "execution_count": 24,
   "outputs": []
  },
  {
   "metadata": {},
   "cell_type": "markdown",
   "source": "(b) Retorne os estados referentes a essas linhas resultantes.\n",
   "id": "151a6cd95d1fb7a3"
  },
  {
   "metadata": {
    "ExecuteTime": {
     "end_time": "2024-09-24T20:59:50.152303Z",
     "start_time": "2024-09-24T20:59:50.146374Z"
    }
   },
   "cell_type": "code",
   "source": "df_acima_media_uf = df_acima_media[['sigla_uf','idhm']]",
   "id": "815c43cc2a4f83d7",
   "execution_count": 25,
   "outputs": []
  },
  {
   "metadata": {
    "ExecuteTime": {
     "end_time": "2024-09-24T20:59:50.165636Z",
     "start_time": "2024-09-24T20:59:50.153824Z"
    }
   },
   "cell_type": "code",
   "source": "df_acima_media_uf.head(20)",
   "id": "552fea72fdc99eb8",
   "execution_count": 26,
   "outputs": []
  },
  {
   "metadata": {},
   "cell_type": "markdown",
   "source": [
    "5 - Ordene os dados do DataFrame de 1991 de acordo com o IDH, usando a função\n",
    "sort_values() e mostre a tabela dos 5 primeiros com o .head(5)."
   ],
   "id": "722165d236852950"
  },
  {
   "metadata": {},
   "cell_type": "markdown",
   "source": "Ordenção feita de forma decrescente",
   "id": "771c075f80f452c6"
  },
  {
   "metadata": {
    "ExecuteTime": {
     "end_time": "2024-09-24T21:04:23.851664Z",
     "start_time": "2024-09-24T21:04:23.840056Z"
    }
   },
   "cell_type": "code",
   "source": [
    "df_filtro_1991 = df_filtro_1991.sort_values(by='idhm', ascending=False)\n",
    "df_filtro_1991.head(5)"
   ],
   "id": "3aa833d332e26602",
   "execution_count": 50,
   "outputs": []
  },
  {
   "metadata": {},
   "cell_type": "markdown",
   "source": [
    "6 - Analise os dados de IDH. Use as funções de .min(), .max(), .idxmin() e .idxmax()\n",
    "para saber qual o estado de maior e menor IDH no DataFrame do ano de 1991.\n"
   ],
   "id": "d82462e901e811f9"
  },
  {
   "metadata": {},
   "cell_type": "markdown",
   "source": "Usando min() e max()",
   "id": "542c8c36d84cece7"
  },
  {
   "metadata": {
    "ExecuteTime": {
     "end_time": "2024-09-24T21:04:34.190292Z",
     "start_time": "2024-09-24T21:04:34.182354Z"
    }
   },
   "cell_type": "code",
   "source": [
    "menor_idh = df_filtro_1991[df_filtro_1991['idhm'] == df_idh_1991.valor_min()]\n",
    "maior_idh = df_filtro_1991[df_filtro_1991['idhm'] == df_idh_1991.valor_max()]"
   ],
   "id": "532e64cdaf241e03",
   "execution_count": 51,
   "outputs": []
  },
  {
   "metadata": {
    "ExecuteTime": {
     "end_time": "2024-09-24T21:04:35.175421Z",
     "start_time": "2024-09-24T21:04:35.163115Z"
    }
   },
   "cell_type": "code",
   "source": "menor_idh.head()",
   "id": "13932db59d656993",
   "execution_count": 52,
   "outputs": []
  },
  {
   "metadata": {
    "ExecuteTime": {
     "end_time": "2024-09-24T21:04:38.138186Z",
     "start_time": "2024-09-24T21:04:38.126989Z"
    }
   },
   "cell_type": "code",
   "source": "maior_idh.head()",
   "id": "cb622fe2e7b2ca39",
   "execution_count": 53,
   "outputs": []
  },
  {
   "metadata": {},
   "cell_type": "markdown",
   "source": "Usando idxmin() e idxmax()",
   "id": "c77c478367dd0cd4"
  },
  {
   "metadata": {},
   "cell_type": "markdown",
   "source": "Menor IDH",
   "id": "70e21688760223aa"
  },
  {
   "metadata": {
    "ExecuteTime": {
     "end_time": "2024-09-24T21:04:45.341284Z",
     "start_time": "2024-09-24T21:04:45.332700Z"
    }
   },
   "cell_type": "code",
   "source": [
    "ind_min = df_filtro_1991['idhm'].idxmin()  # Obtém o índice do menor IDH\n",
    "idh_min_info = df_filtro_1991.loc[ind_min, ['sigla_uf', 'idhm']]  # Seleciona as colunas 'UF' e 'idhm'\n",
    "\n",
    "idh_min_info.head()"
   ],
   "id": "bbecae2de6373826",
   "execution_count": 54,
   "outputs": []
  },
  {
   "metadata": {},
   "cell_type": "markdown",
   "source": "Maior IDH",
   "id": "40eb968d3384383e"
  },
  {
   "metadata": {
    "ExecuteTime": {
     "end_time": "2024-09-24T21:04:48.309132Z",
     "start_time": "2024-09-24T21:04:48.301645Z"
    }
   },
   "cell_type": "code",
   "source": [
    "ind_max = df_filtro_1991['idhm'].idxmax()\n",
    "idh_max_info = df_filtro_1991.loc[ind_max, ['sigla_uf', 'idhm']]\n",
    "\n",
    "idh_max_info.head()"
   ],
   "id": "57f1e25ddbb90c6e",
   "execution_count": 55,
   "outputs": []
  },
  {
   "metadata": {},
   "cell_type": "markdown",
   "source": "## Matplotlib",
   "id": "c4a0289661d69bfc"
  },
  {
   "metadata": {},
   "cell_type": "markdown",
   "source": "1 - Qual a proporção da População Urbana entre os estados brasileiros?",
   "id": "a9f218d5f97ee3b9"
  },
  {
   "metadata": {
    "ExecuteTime": {
     "end_time": "2024-09-24T21:05:22.529445Z",
     "start_time": "2024-09-24T21:05:22.328232Z"
    }
   },
   "cell_type": "code",
   "source": [
    "plt.figure(figsize=(10, 6))\n",
    "plt.bar(df_filtro_1991['sigla_uf'], df_filtro_1991['populacao_urbana'])\n",
    "\n",
    "plt.xlabel('UF')\n",
    "plt.ylabel('População Urbana')\n",
    "plt.gca().yaxis.set_major_formatter(mticker.FuncFormatter(lambda x, _: f'{x/1e6:.1f}M'))\n",
    "plt.title('População Urbana por Estado (1991)')\n",
    "\n",
    "plt.xticks(rotation=45)\n",
    "\n",
    "plt.show()"
   ],
   "id": "12e402659275e1f6",
   "execution_count": 57,
   "outputs": []
  },
  {
   "metadata": {},
   "cell_type": "markdown",
   "source": "2 - Qual o n´ıvel de desigualdade do Brasil?\n",
   "id": "ab83c7d077b77232"
  },
  {
   "metadata": {
    "ExecuteTime": {
     "end_time": "2024-09-24T21:05:23.878856Z",
     "start_time": "2024-09-24T21:05:23.872977Z"
    }
   },
   "cell_type": "code",
   "source": [
    "df_filtro_2000 = df[df['ano'] == 2000]\n",
    "df_filtro_2010 = df[df['ano'] == 2010]"
   ],
   "id": "6d90139b01aa06ba",
   "execution_count": 58,
   "outputs": []
  },
  {
   "metadata": {},
   "cell_type": "markdown",
   "source": "## Histrograma para 1991",
   "id": "804f32113c74100a"
  },
  {
   "metadata": {
    "ExecuteTime": {
     "end_time": "2024-09-24T21:05:27.227816Z",
     "start_time": "2024-09-24T21:05:27.097130Z"
    }
   },
   "cell_type": "code",
   "source": [
    "plt.figure(figsize=(10, 6))\n",
    "plt.hist(df_filtro_1991['idhm'], bins=9)\n",
    "\n",
    "plt.xlabel('IDH')\n",
    "plt.ylabel('Frequência')\n",
    "plt.title('Distribuição de IDH no Brasil - 1991')\n",
    "\n",
    "plt.xticks(rotation=45)\n",
    "\n",
    "plt.show()"
   ],
   "id": "9fce702fbbe87518",
   "execution_count": 59,
   "outputs": []
  },
  {
   "metadata": {},
   "cell_type": "markdown",
   "source": "## Histograma para 2000",
   "id": "4a2aff57c9cc0f51"
  },
  {
   "metadata": {
    "ExecuteTime": {
     "end_time": "2024-09-24T21:05:35.012098Z",
     "start_time": "2024-09-24T21:05:34.819364Z"
    }
   },
   "cell_type": "code",
   "source": [
    "plt.figure(figsize=(10, 6))\n",
    "plt.hist(df_filtro_2000['idhm'], bins=9)\n",
    "\n",
    "plt.xlabel('IDH')\n",
    "plt.ylabel('Frequência')\n",
    "plt.title('Distribuição de IDH no Brasil - 2000')\n",
    "\n",
    "plt.xticks(rotation=45)\n",
    "\n",
    "plt.show()"
   ],
   "id": "9cb4e73082edc205",
   "execution_count": 60,
   "outputs": []
  },
  {
   "metadata": {},
   "cell_type": "markdown",
   "source": "## Histograma para 2010",
   "id": "be3c454a46272234"
  },
  {
   "metadata": {
    "ExecuteTime": {
     "end_time": "2024-09-24T21:05:41.554827Z",
     "start_time": "2024-09-24T21:05:41.418104Z"
    }
   },
   "cell_type": "code",
   "source": [
    "plt.figure(figsize=(10, 6))\n",
    "plt.hist(df_filtro_2010['idhm'], bins=9)\n",
    "\n",
    "plt.xlabel('IDH')\n",
    "plt.ylabel('Frequência')\n",
    "plt.title('Distribuição de IDH no Brasil - 2010')\n",
    "\n",
    "plt.xticks(rotation=45)\n",
    "\n",
    "plt.show()"
   ],
   "id": "da0a9173e7f1e460",
   "execution_count": 61,
   "outputs": []
  },
  {
   "metadata": {},
   "cell_type": "markdown",
   "source": "3 - Existe alguma correlação entre IDH e Expectativa de Vida?",
   "id": "19f9a6ebfd621681"
  },
  {
   "metadata": {},
   "cell_type": "markdown",
   "source": "## Scatter para 1991",
   "id": "99b12a0a865e7316"
  },
  {
   "metadata": {
    "ExecuteTime": {
     "end_time": "2024-09-24T21:05:47.530218Z",
     "start_time": "2024-09-24T21:05:47.392542Z"
    }
   },
   "cell_type": "code",
   "source": [
    "plt.figure(figsize=(10, 6))\n",
    "plt.scatter(df_filtro_1991['idhm'], df_filtro_1991['expectativa_vida'], color='blue')\n",
    "\n",
    "plt.xlabel('IDH')\n",
    "plt.ylabel('Expectativa de Vida')\n",
    "plt.title('Expectativa de Vida x IDH no Brasil - 1991')\n",
    "\n",
    "plt.xticks(rotation=45)\n",
    "\n",
    "plt.show()"
   ],
   "id": "e0e72bc636c6c76f",
   "execution_count": 62,
   "outputs": []
  },
  {
   "metadata": {},
   "cell_type": "markdown",
   "source": "## Scatter para 2000",
   "id": "d5142548704c4e67"
  },
  {
   "metadata": {
    "ExecuteTime": {
     "end_time": "2024-09-24T21:05:52.496851Z",
     "start_time": "2024-09-24T21:05:52.354243Z"
    }
   },
   "cell_type": "code",
   "source": [
    "plt.figure(figsize=(10, 6))\n",
    "plt.scatter(df_filtro_2000['idhm'], df_filtro_2000['expectativa_vida'], color='red')\n",
    "\n",
    "plt.xlabel('IDH')\n",
    "plt.ylabel('Expectativa de Vida')\n",
    "plt.title('Expectativa de Vida x IDH no Brasil - 2000')\n",
    "\n",
    "plt.xticks(rotation=45)\n",
    "\n",
    "plt.show()"
   ],
   "id": "1c326924a124131",
   "execution_count": 63,
   "outputs": []
  },
  {
   "metadata": {},
   "cell_type": "markdown",
   "source": "## Scatter para 2010",
   "id": "715ac106f0d40889"
  },
  {
   "metadata": {
    "ExecuteTime": {
     "end_time": "2024-09-24T21:05:55.800844Z",
     "start_time": "2024-09-24T21:05:55.652037Z"
    }
   },
   "cell_type": "code",
   "source": [
    "plt.figure(figsize=(10, 6))\n",
    "plt.scatter(df_filtro_2010['idhm'], df_filtro_2010['expectativa_vida'], color='orange')\n",
    "\n",
    "plt.xlabel('IDH')\n",
    "plt.ylabel('Expectativa de Vida')\n",
    "plt.title('Expectativa de Vida x IDH no Brasil - 2010')\n",
    "\n",
    "plt.xticks(rotation=45)\n",
    "\n",
    "plt.show()"
   ],
   "id": "94fc3e58a83e8d2d",
   "execution_count": 64,
   "outputs": []
  },
  {
   "metadata": {},
   "cell_type": "markdown",
   "source": [
    "### Conclusão\n",
    "<br>\n",
    "Fica evidente que a expectativa de vida tem uma relação direta com a taxa de IDH, e isso fica mais claro com o passar dos anos, já que o gráfico se mostra cada vez mais linear, onde nas regiões do gráfico de baixo IDH, temos as menores expectativas de vidas. Isso de fato acontece, pois nos locais onde temos baixo IDH, temos diversas condições precárias de vida, como por exemplo esgoto a céu aberto, ou falta de saneamento básico, o que diminui a expectativa de vida da população daquela área, ou por exemplo, áreas de perigo dominadas pelo tráfico ou milicia também afetam essas métricas."
   ],
   "id": "4634f62c3aed157f"
  },
  {
   "metadata": {},
   "cell_type": "markdown",
   "source": "## Desafio Final",
   "id": "75be50d74805521c"
  },
  {
   "metadata": {},
   "cell_type": "markdown",
   "source": [
    "Utilizando a mesma base de dados, obtenha a diferençaa de expectativa de vida\n",
    "de cada estado entre os anos de 1991 e 2010."
   ],
   "id": "4678209fa8bbc7fb"
  },
  {
   "metadata": {
    "ExecuteTime": {
     "end_time": "2024-09-24T21:06:02.504161Z",
     "start_time": "2024-09-24T21:06:02.480080Z"
    }
   },
   "cell_type": "code",
   "source": [
    "df_diferenca = pd.DataFrame()\n",
    "df_merge = pd.merge(df_filtro_1991, df_filtro_2010, on='sigla_uf', suffixes=('_1991', '_2010'))\n",
    "\n",
    "df_diferenca['sigla_uf'] = df_merge['sigla_uf']\n",
    "df_diferenca['Diferença'] = df_merge['expectativa_vida_2010'] - df_merge['expectativa_vida_1991']"
   ],
   "id": "2efb9c19c1767e31",
   "execution_count": 65,
   "outputs": []
  },
  {
   "metadata": {},
   "cell_type": "markdown",
   "source": " Faça um gráfico de barras com esses valores.",
   "id": "fff09098c4a7fa1d"
  },
  {
   "metadata": {
    "ExecuteTime": {
     "end_time": "2024-09-24T21:06:03.987622Z",
     "start_time": "2024-09-24T21:06:03.765308Z"
    }
   },
   "cell_type": "code",
   "source": [
    "plt.figure(figsize=(10, 6))\n",
    "plt.bar(df_diferenca['sigla_uf'], df_diferenca['Diferença'])\n",
    "\n",
    "plt.xlabel('UF')\n",
    "plt.ylabel('Expectativa de Vida')\n",
    "plt.title('Diferença de expectativa de vida entre 1991 e 2010')\n",
    "\n",
    "plt.xticks(rotation=45)\n",
    "\n",
    "plt.show()"
   ],
   "id": "b2b9237e4bcb62b4",
   "execution_count": 66,
   "outputs": []
  },
  {
   "metadata": {},
   "cell_type": "markdown",
   "source": [
    "Retorne todos os estados que tiveram um aumento de pelo menos 10 anos\n",
    "na expectativa de vida entre 1991 e 2010."
   ],
   "id": "569727c88343c4c1"
  },
  {
   "metadata": {
    "ExecuteTime": {
     "end_time": "2024-09-24T21:06:06.317868Z",
     "start_time": "2024-09-24T21:06:06.309303Z"
    }
   },
   "cell_type": "code",
   "source": [
    "df_aumento_idh = df_diferenca[df_diferenca['Diferença'] >= 10].sort_values(by='Diferença', ascending=False)\n",
    "print(df_aumento_idh)"
   ],
   "id": "8b80512d10558ffc",
   "execution_count": 67,
   "outputs": []
  },
  {
   "metadata": {
    "ExecuteTime": {
     "end_time": "2024-09-24T20:59:51.913529Z",
     "start_time": "2024-09-24T20:59:51.909976Z"
    }
   },
   "cell_type": "code",
   "source": "",
   "id": "4461350c1897f4b3",
   "execution_count": 43,
   "outputs": []
  }
 ],
 "metadata": {
  "kernelspec": {
   "display_name": "Python 3",
   "language": "python",
   "name": "python3"
  },
  "language_info": {
   "codemirror_mode": {
    "name": "ipython",
    "version": 2
   },
   "file_extension": ".py",
   "mimetype": "text/x-python",
   "name": "python",
   "nbconvert_exporter": "python",
   "pygments_lexer": "ipython2",
   "version": "2.7.6"
  }
 },
 "nbformat": 4,
 "nbformat_minor": 5
}
